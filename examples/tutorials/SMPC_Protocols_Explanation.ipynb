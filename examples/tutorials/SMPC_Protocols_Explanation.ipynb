{
 "cells": [
  {
   "cell_type": "markdown",
   "metadata": {},
   "source": [
    "# SMPC Protocols Explanation \n",
    "In this notebook I'll will give an overview and a quick explanation over the different SMPC protocols that are currently implemented in PySyft. I'll also elaborate on when their applicability to different use-cases (namely different computations) and compare their performance compared to each other and compared to the non-encrypted computations. \n",
    "\n",
    "\n",
    "## Quick recap - What is SMPC encryption?\n",
    "As a quick recap \"SMPC\" or \"MPC\" stands for **Multi-Party Computation** and constitutes a form of encryption which can be used for Machine Learning (i.e. it is possible to do calculations on encrypted data) leveraging a network of min. 2 different servers. These are being trusted of not collaborating with each other and as a whole function as a **trusted execution environment** on which sensitive calculations such as model inference, training, etc. can be done without the model or the data being disclosed to any party besides the owner. \n",
    "\n",
    "## General concepts \n",
    "* Explain in brief important concepts that all protocols leverage \n",
    "  * crypto_store \n",
    "  * ...\n",
    "\n",
    "---\n",
    "--> START WITH LESS PERFORMANT PROTOCOL"
   ]
  },
  {
   "cell_type": "code",
   "execution_count": null,
   "metadata": {},
   "outputs": [],
   "source": [
    "# Setup of example use-case problem \n",
    "# Serves to compare best models that can still be encrypted using the different protocols +\n",
    "# Comparison to non-encrypted computation. (Only inference, we use pre-trained models)"
   ]
  },
  {
   "cell_type": "markdown",
   "metadata": {},
   "source": [
    "## SecureNN Protocol\n",
    "* Paper + Code \n",
    "* Intro to Garbled Circuits (or even earlier)\n",
    "---\n",
    "* **Structure:**\n",
    "  * Theoretical Concept: Procedure, Safety Guarantees (Practical examples)\n",
    "  * Theoretical Capabilities in terms of what computations are possible in encrypted form\n",
    "  * *Concerning PySyft Implementation:* \n",
    "    * What was implemented, how? \n",
    "    * **MOST IMPORTANT / KEY QUESTION:** For what kind of computations, i.e. models, and in what kind of scenarios can I use this, i.e. what privacy and safety guarantees does this protocol provide in the current implementation. \n",
    "---\n",
    "* **Code:**\n",
    "  * Try to find most advanced model compatible encryptable with this approach\n",
    "  * Do simple evaluation of most important metrics (possibly comparing with and without encryption)\n",
    "    * Time \n",
    "    * ..."
   ]
  },
  {
   "cell_type": "markdown",
   "metadata": {},
   "source": [
    "Important Concepts: \n",
    "--> Source: [The three part blog series about SPDZ](https://bristolcrypto.blogspot.com/2016/10/what-is-spdz-part-1-mpc-circuit.html) and [Morten Dahl's Blogs on SPDZ](https://mortendahl.github.io/2017/09/03/the-spdz-protocol-part1/)\n",
    "* Functions are often refered to as circuits -> every function can be approx. represented by nested boolean circuits (combination of boolean gates) ??\n",
    "* There are two types of SMPC: secret-sharing-based SMPC and circuit-gabling-based SMPC \n",
    "    * Basic protocol steps for secret-sharing-based SMPC see BLOG: https://bristolcrypto.blogspot.com/2016/10/what-is-spdz-part-1-mpc-circuit.html\n",
    "    * Secret-sharing is mainly done via so called \"Additive Secret Sharing\" protocol, **Shamir's protocol** is a more complicated secret-sharing technique that doesn't only depend on additive splitting (reconstructable with a simple sum)\n",
    "* SPDZ is a prominent example of secret-sharing-based SMPC \n",
    "  * It is considered to be the optimal method to use FHE in MPC according to authors of the original paper - as described in the blog(for the preprocessing)\n",
    "  * The online phase is very good already (**TODO:** enumerate number of communications based on blog)\n",
    "  * That's why mainly the offline phase - i.a. the preprocessing, generation of beaver triples and the big random numbers to serve to secret share values (the party having the real value also participates, other protocol than so far in tutorials where two dedicated units were used) - is being optimized. \n",
    "  * In the original SPDZ the preprocessing is done using Somewhat Homomorphic Encryption (SHE), for now no method exists to use instead FHE (**TODO:** How exactly? Are triples different for different functions?) in a competitive manner compared to other MPC protocols. \n",
    "  \n"
   ]
  },
  {
   "cell_type": "code",
   "execution_count": null,
   "metadata": {},
   "outputs": [],
   "source": []
  },
  {
   "cell_type": "markdown",
   "metadata": {},
   "source": [
    "## Functional Secret Sharing Protocol\n",
    "\n",
    "### ARIANN Implementation \n",
    "* Paper + Code\n",
    "---\n",
    "* **Structure:**\n",
    "  * Theoretical Concept: Procedure, Safety Guarantees (Practical examples)\n",
    "  * Theoretical Capabilities in terms of what computations are possible in encrypted form\n",
    "  * *Concerning PySyft Implementation:* \n",
    "    * What was implemented, how? \n",
    "    * **MOST IMPORTANT / KEY QUESTION:** For what kind of computations, i.e. models, and in what kind of scenarios can I use this, i.e. what privacy and safety guarantees does this protocol provide in the current implementation. \n",
    "---\n",
    "* **Code:**\n",
    "  * Try to find most advanced model compatible encryptable with this approach\n",
    "  * Do simple evaluation of most important metrics (possibly comparing with and without encryption)\n",
    "    * Time \n",
    "    * ..."
   ]
  },
  {
   "cell_type": "code",
   "execution_count": null,
   "metadata": {},
   "outputs": [],
   "source": []
  },
  {
   "cell_type": "markdown",
   "metadata": {},
   "source": [
    "# Other encryption protocols in PySyft "
   ]
  },
  {
   "cell_type": "markdown",
   "metadata": {},
   "source": [
    "## SPDZ Protocol \n",
    "* Paper + Code\n",
    "* Introduction of first protocol along quick intro into beaver triples "
   ]
  },
  {
   "cell_type": "code",
   "execution_count": null,
   "metadata": {},
   "outputs": [],
   "source": []
  },
  {
   "cell_type": "markdown",
   "metadata": {},
   "source": [
    "## FALCON Protocol (Future)\n",
    "* Paper + Code "
   ]
  },
  {
   "cell_type": "code",
   "execution_count": null,
   "metadata": {},
   "outputs": [],
   "source": []
  }
 ],
 "metadata": {
  "kernelspec": {
   "display_name": "Python [conda env:pp-ml] *",
   "language": "python",
   "name": "conda-env-pp-ml-py"
  },
  "language_info": {
   "codemirror_mode": {
    "name": "ipython",
    "version": 3
   },
   "file_extension": ".py",
   "mimetype": "text/x-python",
   "name": "python",
   "nbconvert_exporter": "python",
   "pygments_lexer": "ipython3",
   "version": "3.7.9"
  }
 },
 "nbformat": 4,
 "nbformat_minor": 4
}
