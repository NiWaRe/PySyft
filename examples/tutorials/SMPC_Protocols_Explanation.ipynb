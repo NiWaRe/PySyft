{
 "cells": [
  {
   "cell_type": "markdown",
   "metadata": {},
   "source": [
    "# SMPC Protocols Explanation \n",
    "This notebook will give you an overview and a very quick explanation over the different SMPC protocols that are currently implemented in PySyft. It'll also elaborate on **what kind of Machine Learning you can conduct in an encrypted fashion using them**, along a comparison of their resulting performance to each other and to the non-encrypted scenario. The protocol explanations should mainly serve to give you a high-level understanding of what the main **crypto-slang** stands for, how the terms relate to each other and what ressources serve as good starting points to dig deeper! \n",
    "\n",
    "\n",
    "## Quick recap - What is SMPC encryption?\n",
    "As a quick recap \"SMPC\" stands for **Secure Multi-Party Computation** and constitutes a form of encryption which can be used for Machine Learning (i.e. it is possible to do calculations on encrypted data) leveraging a network of min. 2 different servers. These are being trusted of not collaborating with each other and as a whole work as a **trusted execution environment** on which sensitive calculations such as model inference, training, etc. can be done without the model or the data being disclosed to any party besides the respective owner. \n",
    "\n",
    "## General concepts \n",
    "* Important concepts that all protocols are based upon - *in brief:* \n",
    "  * **A Public value,** is considered data (e.g. input from the data-sources) which is known by all parties. \n",
    "  * **A Private value,** is considered data which is secured through additive secret sharing, only the owner knows the true value. \n",
    "  * **Masking:** To share a private value publicily (e.g. as necessary part in a protcol) it has to be masked first. This typically simply involes adding a random number to the value and projecting it onto a fixed set of numbers, a so called ring. <br>  *masked_value = (private_value - random_numb) % upper absolute value of set of numbers.* For more info on that checkout the Udacity Beginner Tutorials by Andrew Trask. "
   ]
  },
  {
   "cell_type": "code",
   "execution_count": null,
   "metadata": {},
   "outputs": [],
   "source": [
    "# Setup of example use-case problem \n",
    "# Serves to compare best models that can still be encrypted using the different protocols +\n",
    "# Comparison to non-encrypted computation. (Only inference, we use pre-trained models)"
   ]
  },
  {
   "cell_type": "markdown",
   "metadata": {},
   "source": [
    "# 1. SPDZ Protocol \n",
    "* **Encryption on n parties possible (n >= 2)**\n",
    "* Basis for advanced protocols secureNN and FSS. \n",
    "* *In depth material:*\n",
    "  * [Bristol Cryptography Blog Series](https://bristolcrypto.blogspot.com/2016/10/what-is-spdz-part-1-mpc-circuit.html)\n",
    "  * [Morten Dahl's Blog](https://mortendahl.github.io/2017/09/03/the-spdz-protocol-part1/)\n",
    "  * [PySyft Code](https://github.com/OpenMined/PySyft/blob/master/syft/frameworks/torch/mpc/spdz.py)"
   ]
  },
  {
   "cell_type": "markdown",
   "metadata": {},
   "source": [
    "### General concept \n",
    "There are two types of SMPC: secret-sharing-based SMPC and circuit-gabling-based SMPC. \n",
    "The two protocols (secureNN and FSS) that are implemented in PySyft to date are both based on the **SPDZ protocol**, \n",
    "which is based on *additive secret-sharing* (the first category) For more information on what *additive secret-sharing* is, check out the tutorials by Andrew Trask as part of the Udacity Private and Secure AI Course.<br>\n",
    "SPDZ is a very widely used protocol for computing linear functions in an encrypted fashion, meaning it can be used to compute sums and multiplication of encrypted variables. <span style=\"color:red;\">The sum of encrypted variables simply consists of each server summing locally its shares of the private variables, which then leads to each server having a share of the sum of the private variables, thus together secret-sharing the sum of the private variables.</span> The multiplication of two encrypted variables however is done using so called **\"beaver multiplication triples\"** - three randomely generated numbers - which make the encrypted multiplication very efficient compared to other appraoches (e.g. garbled circuits)\n",
    "<br>\n",
    "*Why more efficient?* See as a brief introduction into this topic the 'Extra: Beaver Multiplication Triples' section or to dig deeper see the ressources mentioned just above. \n",
    "<br>\n",
    "<br>\n",
    "The high-level procedure of SPDZ-based protocols is as follow: (based on definition from the [Bristol Cryptography Blog](https://bristolcrypto.blogspot.com/2016/10/what-is-spdz-part-1-mpc-circuit.html))\n",
    "   1. Parties secret-share their inputs at the beginning (one crypto-provider exists to generate beaver triples, etc.)\n",
    "   2. Parties compute mul. and sum. locally (using only their share of the private variables). <span style=\"color:red;\">*By design they don't have to communicate to each other while doing the sums and products locally. Only at the end they share their end-result. This reduces communication complexcity significantly.*</span> \n",
    "   3. At the end parties reveal the result of their calcultaion by sending their share to all others and adding all parts up (each server does that and thus knows the final result)"
   ]
  },
  {
   "cell_type": "markdown",
   "metadata": {},
   "source": [
    "### Extra: Beaver Multiplication Triples\n",
    "Beaver Triples are simply put randomely generated numbers which are also shared among all different workers and are used to mask (as described above) the input variables to the multiplication, so that they can be publicly shared. Then they can be only used to compute the product (the end-result) by simply computing a simple equation out of all masked input variables, which cancels out the random masks and reveals the product. So effectively no further communcations between the workers is necessary during the computation itself. Now concerning the overall efficiency of the protocol you might think that although the communication-complexity is low we still need to generate new Beaver Triples for each multiplication? (because of security issues they can only be used for one multiplication) <br>\n",
    "For this reason however, the SPDZ protocol is parted into an 'offline' and an 'online' phase. The 'offline' phase consists of randomely generating all necessary \"crypto-primitives\" - e.g. the Beaver Triples - and can essentially be executed independently of specific inputs of the multiplication, i.e. before the actual multiplications. Thus, given we have generated enough Beaver Triples beforehand, during the 'online' phase we can compute as much multiplications as we have pre-generated Beaver Triples. *This makes the SPDZ protocol very efficient for linear computations!*"
   ]
  },
  {
   "cell_type": "markdown",
   "metadata": {},
   "source": [
    "### Extra: Crypto-Store\n",
    "  * As mentioned above a key feature of the SPDZ-protocol is its splitting of the encrypted computation process into an *online* and an *offline* phase to allow for a significantly decreased execution time (given enough time for offline phase when no encrypted computations are being conducted)\n",
    "  * As you probably know in PySyft there exist *worker* objects that have certain default attributes specified and set in `class BaseWorker(AbstractWorker)` ([code](https://github.com/OpenMined/PySyft/blob/c83e615a85bb8944245668d90582fb97c45e6e18/syft/workers/base.py#L48)). One of them is a so called `worker.crypto_store`. The *crypto_store* object is of type `class PrimitiveStorage`, which specifies a set of given functions which help the respective workers to manage crypto-primitives they need to participate in the respective crypto-protocol. (e.g. Beaver Triples for multiplication in the SPDZ-protocol)\n",
    "  * Specifically there are two important methods of the crypto_store object. For the *crypto-provider* - the server which serves as a trusted, neutral participant of the protocol - the `crypto_provider.crypto_store.provide_primitives(...)` ([code](https://github.com/OpenMined/PySyft/blob/c83e615a85bb8944245668d90582fb97c45e6e18/syft/frameworks/torch/mpc/primitives.py#L161)) method generates and sends crypto-primitives such as Beaver Triples to participating workers. <br> For \"normal\" participating workers the `worker.crypto_store.get_keys(...)` ([code](https://github.com/OpenMined/PySyft/blob/c83e615a85bb8944245668d90582fb97c45e6e18/syft/frameworks/torch/mpc/primitives.py#L52)) method takes care of receiving and storing the crypto primitives for later usage during the protocol."
   ]
  },
  {
   "cell_type": "markdown",
   "metadata": {},
   "source": [
    "### Extra: Garbled Circuits \n",
    "Maybe you've read this term a couple of times on the OpenMined workspace or in SMPC-encryption discussions - *on a high-level what is circuit-gabling-based SMPC, or more specifically what are'Garbled Circuits?* <br>\n",
    "Garbled Circuits is a protocol which works as **2-Party-Computation** (i.e. only two servers are involved) The name comes from the method which is used to encrypt a function: a function is represented as a **circuit** consisting of different logical gates (e.g. AND, XOR, etc.) This circuit can be described with a truthtable which indicates at what inputs, what outputs follow. As part of the encryption process the rows of the truthtable are re-ordered arbitrarily which leads to the name \"garbled\" circuits. <br> \n",
    "The [details about the protocol](https://en.wikipedia.org/wiki/Garbled_circuit) are rather straight forward, the important thing to note is that this technique is **very flexible** as essentially all functions can be encrypted using this method, but also **very inefficient**. That's why often the Garbled Circuits protocol is mainly used on-top of more optimized protocols (such as e.g. SPDZ) to extend the variety of functions compatible with these protocols while not slowing down the computation too much for most computations. <br>\n",
    "It has to be noted that nevertheless, researchers try to find alternative, more efficient protocols which work withouut Garbled Circuits at the cost of supporting only a lower variety of functions. *Examples for protocols especially for computations that are popular in Machine Learning Models are secureNN and FSS which PySyft supports and over which I'll go over in the following section!*"
   ]
  },
  {
   "cell_type": "code",
   "execution_count": null,
   "metadata": {},
   "outputs": [],
   "source": [
    "# Implementation"
   ]
  },
  {
   "cell_type": "code",
   "execution_count": null,
   "metadata": {},
   "outputs": [],
   "source": []
  },
  {
   "cell_type": "markdown",
   "metadata": {},
   "source": [
    "# 2. SecureNN Protocol\n",
    "* Introduced in [paper](https://www.researchgate.net/publication/334590018_SecureNN_3-Party_Secure_Computation_for_Neural_Network_Training): *SecureNN: 3-Party Secure Computation for Neural Network Training, by Sameer Wagh, Divya Gupta, and Nishanth Chandran, in Proceedings on Privacy Enhancing Technologies,  2019* \n",
    "* **Protocol is made for computation on 2 parties with 1 crypto-worker.** (There can still be multiple data-owners, but the computations need to be done on 2 servers - 2-party-additive-sharing)\n",
    "\n",
    "## High-Level concept \n",
    "SecureNN uses the SPDZ protocol for linear layers (beaver triples, etc.) and contains multiple efficent protocols for common non-linearities, as further described below. Compared to ealier work SecureNN implements the computation of the non-linearities without the need of Garbled Circuits (as is the case for SecureML, which was considered the state-of-the-art ML protocol before SecureNN) This also means \"interconversation protocols\" to bridge between encoding needed for SPDZ and encoding needed for Garbled Circuits aren't necessary, decreasing computation time further. <br>\n",
    "<span style=\"color:red;\">*In general SecureNN is therefore a lot faster than SecureML and other garbled-circuit-based (for non-linearities) protocols.* </span>"
   ]
  },
  {
   "cell_type": "markdown",
   "metadata": {},
   "source": [
    "## In detail \n",
    "### Possible computations - Low Level \n",
    "This isn't a general purpose protocol, which can compute all possible kinds of computations that are used in training NNs, but by giving up this flexibility (e.g. no usasge of garbled circuits) we gain efficiency which is a vital criteria for the real-world-applicability of an encryption protocol. \n",
    "\n",
    "* Matrix Multiplication (SPDZ)\n",
    "* Select Share \n",
    "  * <span style=\"color:red;\">Select one variable out of multiple private variables to be freshly masked and shared for a new computation. </span> Used for e.g. for maxpool (i.e. select max element out of kernel-elements)\n",
    "* Private Compare \n",
    "  * <span style=\"color:red;\">Compare public variable with private variable. Used to compute the ReLU function (ReLU = max(x,0))</span> Used for e.g. for computation of MSB (see below)\n",
    "* Share Convert \n",
    "  * Convert private variables from one number space (a \"ring\") to another. <span style=\"color:red;\">Remember during computation the numbers are plain integers encoded by a bit-sequence of length L. After \"share convert\" they are encoded as a bit-sequence of length L-1. </span> Used for e.g. for computation of derivative of ReLU. \n",
    "* Compute MSB (Most-Significant-Bit)\n",
    "  * Efficient reading of the sign-bit (is input integer positive or negative) mainly to compute the derivative of the ReLU function. \n",
    "\n",
    "### Possible functions - High Level (Non exhaustive list)\n",
    "Resulting from the possible low level computations the following standard models, optimizers and loss-functions can be used. *This should provide a useful summary, but doesn't claim to be an exhaustive list (feel free to add important items that can be composed out of the above mentioned possible low-level computations)\n",
    "\n",
    "* **Model Architecture:** Includes the possibility for encrypted computation of the derivative (needed for backprop)\n",
    "    * **Linear Layers** \n",
    "      * Matrix Multiplication and Convolutions (in CNNs e.g.)\n",
    "      * Average Pooling \n",
    "      * Batch-Norm/Normalization (Division of two private variables in general is possible)\n",
    "      * <span style=\"color:red;\">Dropout</span> - *with help of select share, certain computation-results can be ignored. Or simply set some inputs to some neurons to zero.*\n",
    "    * **Non-Linear Layers:** \n",
    "      * Max Pooling \n",
    "      * ReLU, Leaky ReLU, Piece-wise linear activation functions \n",
    "     \n",
    "* **Optimizers:** \n",
    "  * SGD (with Momentum)\n",
    "  * ADAM (Momentum + RMSProp) - *as devision is also possible (and elementwise-multiplication as well)*\n",
    "\n",
    "* **Loss-functions:**\n",
    "  * L1-Loss - *as max() is possible*\n",
    "  * MSE - *linear computation and power can be computed with SPDZ* \n",
    "  * Hinge-Loss (Linear Classification with Soft-Margin-SVM) - *as max(0, t) is possible*\n",
    "  * Cross-Entropy-Loss\n",
    "  \n",
    "<span style=\"color:red;\">***Question:*** How is Cross-Entropy-Loss supported (mentioned in paper), Softmax, Log are not explicitly mentioned as compatible functions. Use of approximation?</span>\n",
    "\n",
    "### Security Guarantees \n",
    "* Full Security includes **privacy and correctness**\n",
    "* The following to gurantees hold for all settings where there is a majority of honest participating servers (**Not in dishonest majority setting!**)\n",
    "1. **Full Security for semi-honest corruption of a server** \n",
    "  * Privacy and Correctness of the data is secured if a server is being *honest-but-curious.* Meaning that follows the protocol but tries to infer as much information about the data it sees as possible. \n",
    "2. **Privacy against malicious server** \n",
    "  * Even a server which doesn't follow the given protocol can't learn anything about the inputs and outputs of the other (honest) servers, *given that the majority of the participants are honest!* This is a common assumption for the malicious case because in a real setting deviating from the given protocol could be prevented with additional measures, as seen below. \n",
    "3. Potential Add-on: **Security with Abort**\n",
    "  * Protection against malicious servers can be guaranteed by adding [MAC authentication](https://en.wikipedia.org/wiki/Message_authentication_code) to the protocol. This would allow to abort the protocol as soon as one of the servers doesn't follow the protocol anymore. \n",
    "\n",
    "\n",
    "### Performance Evaluation - Important Metrics \n",
    "* Important Metrics: \n",
    "  * Communication Complexity \n",
    "  * Round Complexity \n",
    "  \n",
    "See picture from SecureNN paper. *\"The function\n",
    "Linearm,n,v denotes a matrix multiplication of dimen-\n",
    "sion m × n with n × v. Conv2dm,i,f,o denotes a convo-\n",
    "lutional layer with input m × m, i input channels, a\n",
    "filter of size f × f, and o output channels. lD denotes\n",
    "precision of bits. Maxpooln and DMPn denotes Maxpool\n",
    "and its derivative over n elements. All commu- nication is measured for l−bit inputs and p \n",
    "denotes the field size (which is 67 in our case)\"*\n",
    "\n",
    "<span style=\"color:red;\">***TODO:*** Do very small comparision with other existing protocols  + try to evaluate performance based on below use-case. More detailed comparison between secureNN and FSS (AriaNN implementation) and non-encrypted scenario at the end!</span><br><br>\n",
    "<span style=\"color:red;\">***TODO:*** Think whether Info-text and complexity table are helpful (Table 2)</span>"
   ]
  },
  {
   "cell_type": "code",
   "execution_count": null,
   "metadata": {},
   "outputs": [],
   "source": [
    "# Example Implementation "
   ]
  },
  {
   "cell_type": "code",
   "execution_count": null,
   "metadata": {},
   "outputs": [],
   "source": []
  },
  {
   "cell_type": "markdown",
   "metadata": {},
   "source": [
    "# 3. Functional Secret Sharing Protocol\n",
    "* Base [paper](https://link.springer.com/content/pdf/10.1007/978-3-662-46803-6_12.pdf) (first introduction): *Function secret sharing. E. Boyle, N. Gilboa, and Y. Ishai. In EUROCRYPT 2015, pages 337–367, 2015.* \n",
    "* **Encryption with n parties possible (n >= 2)**\n",
    "\n",
    "## High Level Concept \n",
    "As the SecureNN protocol the FSS protocol is also based on the SPDZ protocol for encrypted computation of *linear layers* and provides additional protocols for *non-linearities*. The fundamental difference in the FSS protocol is that instead of evaluating a public function (e.g. a ReLU activation function) at a private value (the secret shared data from the data-sources) it rather evaluates a private function at a public value. This is possible by first masking the private data (x - r mod Q) and then making it publicily available to obtain a public value and to then secret share the function. <br> \n",
    "*How exactly do you secret-share a function? Check out [Théo's Tutorial](https://github.com/OpenMined/PySyft/blob/master/examples/tutorials/Part%2011%20bis%20-%20Encrypted%20inference%20on%20ResNet-18.ipynb) for a nice intro on that!*\n",
    " \n",
    "\n",
    "### Base Implementation \n",
    "The concept of \"Function-Secret-Sharing\" (FSS) was first introduced in the [paper](https://eprint.iacr.org/2018/707): *Function Secret Sharing - Improvements and Extensions, by Elette Boyle and Niv Gilboa and Yuval Ishai, 2018* (This is the updated version)\n",
    "\n",
    "### AriaNN Implementation \n",
    "The PySyft Implementation is based on the [paper](https://arxiv.org/abs/2006.04593): *ARIANN: Low-Interaction Privacy-Preserving Deep Learning via Function Secret Sharing, by Théo Ryffel, David Pointcheval, Francis Bach, 2020* \n"
   ]
  },
  {
   "cell_type": "markdown",
   "metadata": {},
   "source": [
    "## In Detail\n",
    "\n",
    "### Possible computations - Low Level \n",
    "Similar to SecureNN the current FSS protocol implemented in PySyft is focused on efficiency specifically for common computations in Machine Learning, thus leading to decreased flexibility but also allowing decreased computation time for relevant computations. <br>\n",
    "The following computations are supported: \n",
    "\n",
    "* Matrix Multiplication (SPDZ)\n",
    "* Equality Test \n",
    "  * It is checked whether a public value equals a private (i.e. shared) value \n",
    "* Comparison \n",
    "  * Inequality between a public value/expression and private value/expression\n",
    "\n",
    "\n",
    "### Possible functions - High Level (Non exhaustive list)\n",
    "Resulting from the possible low level computations the following standard models, optimizers and loss-functions can be used. *This should provide a useful summary, but doesn't claim to be an exhaustive list (feel free to add important items that can be composed out of the above mentioned possible low-level computations)\n",
    "\n",
    "* **Model Architecture:** Includes the possibility for encrypted computation of the derivative (needed for backprop)\n",
    "    * **Linear Layers** with SPDZ using beaver triples \n",
    "      * Matrix Multiplication and Convolutions (in CNNs e.g.)\n",
    "      * Average Pooling \n",
    "      * Batch-Norm/Normalization (approx. with Newton Method) \n",
    "      * **NO** Dropout - <span style=\"color: red;\">Why? Can't we just set the intermediate inputs to zero? (To turn off some neurons)</span>\n",
    "    * **Non-Linear Layers:** mainly based on direct comparison capabilities\n",
    "      * Max Pooling \n",
    "      * ReLU, Leaky ReLU, Piece-wise linear activation functions \n",
    "      * Argmax \n",
    "     \n",
    "* **Optimizers:**\n",
    "  * SGD (with Momentum)\n",
    "  * **NO** ADAM\n",
    "\n",
    "* **Loss-functions:**\n",
    "  * L1-Loss \n",
    "  * MSE \n",
    "  * Hinge Loss\n",
    "  * **NO** Cross-Entropy-Loss, Logistic Loss\n",
    "\n",
    "### Security Guarantees \n",
    "* Full Security includes **privacy and correctness**\n",
    "* The following to gurantees hold for all settings where there is a majority of honest participating servers (**Not in dishonest majority setting!**)\n",
    "1. **Full Security for semi-honest corruption of a server** \n",
    "  * Privacy and Correctness of the data is secured if a server is being *honest-but-curious.* Meaning that follows the protocol but tries to infer as much information about the data it sees as possible. \n",
    "2. Potential Add-on: **Security with Abort**\n",
    "  * Protection against malicious servers can be guaranteed by adding [MAC authentication](https://en.wikipedia.org/wiki/Message_authentication_code) to the protocol. This would allow to abort the protocol as soon as one of the servers doesn't follow the protocol anymore. \n",
    "\n",
    "\n",
    "### Performance Evaluation - Important Metrics \n",
    "* Important Metrics: \n",
    "  * Communication Complexity \n",
    "  * Round Complexity \n",
    "<span style=\"color:red;\">***TODO:*** Think whether Info-text and complexity table are helpful</span>"
   ]
  },
  {
   "cell_type": "code",
   "execution_count": null,
   "metadata": {},
   "outputs": [],
   "source": [
    "# Implementation"
   ]
  },
  {
   "cell_type": "code",
   "execution_count": null,
   "metadata": {},
   "outputs": [],
   "source": []
  },
  {
   "cell_type": "markdown",
   "metadata": {},
   "source": [
    "# 4. Other encryption protocols in PySyft "
   ]
  },
  {
   "cell_type": "markdown",
   "metadata": {},
   "source": [
    "## FALCON Protocol (Future)\n",
    "* Paper + Code "
   ]
  },
  {
   "cell_type": "code",
   "execution_count": null,
   "metadata": {},
   "outputs": [],
   "source": []
  },
  {
   "cell_type": "code",
   "execution_count": null,
   "metadata": {},
   "outputs": [],
   "source": []
  },
  {
   "cell_type": "markdown",
   "metadata": {},
   "source": [
    "## Potential Changes (Temporary)\n",
    "* Add explanation of potential loss of range or precision depending on fix point conversion (incl. explanation of necessity to have integers)\n",
    "* <span style=\"color:red;\">Lines in red mean that I'm not a 100% sure for now + questions that I have</span> "
   ]
  },
  {
   "cell_type": "markdown",
   "metadata": {},
   "source": [
    "## Temporary Notes: \n",
    "Important Concepts: \n",
    "--> Source: [The three part blog series about SPDZ](https://bristolcrypto.blogspot.com/2016/10/what-is-spdz-part-1-mpc-circuit.html) and [Morten Dahl's Blogs on SPDZ](https://mortendahl.github.io/2017/09/03/the-spdz-protocol-part1/)\n",
    "* Functions are often refered to as circuits -> every function can be approx. represented by nested boolean circuits (combination of boolean gates) ??\n",
    "* There are two types of SMPC: secret-sharing-based SMPC and circuit-gabling-based SMPC \n",
    "    * Basic protocol steps for secret-sharing-based SMPC see BLOG: https://bristolcrypto.blogspot.com/2016/10/what-is-spdz-part-1-mpc-circuit.html\n",
    "    * Secret-sharing is mainly done via so called \"Additive Secret Sharing\" protocol, **Shamir's protocol** is a more complicated secret-sharing technique that doesn't only depend on additive splitting (reconstructable with a simple sum)\n",
    "* SPDZ is a prominent example of secret-sharing-based SMPC \n",
    "  * It is considered to be the optimal method to use FHE in MPC according to authors of the original paper - as described in the blog(for the preprocessing)\n",
    "  * The online phase is very good already (**TODO:** enumerate number of communications based on blog)\n",
    "  * That's why mainly the offline phase - i.a. the preprocessing, generation of beaver triples and the big random numbers to serve to secret share values (the party having the real value also participates, other protocol than so far in tutorials where two dedicated units were used) - is being optimized. \n",
    "  * In the original SPDZ the preprocessing is done using Somewhat Homomorphic Encryption (SHE), for now no method exists to use instead FHE (**TODO:** How exactly? Are triples different for different functions?) in a competitive manner compared to other MPC protocols. \n",
    "  \n",
    "--- \n",
    " \n",
    "--> Performance Metrics of Crypto-Protocols: Source [Morten Dahl's Blog on Private Image Analysis with MPC](https://mortendahl.github.io/2017/09/19/private-image-analysis-with-mpc/) \n",
    "* Communication Complexity: How many bits are being exchanged between participating parties? \n",
    "* Round Complexity: How many points of synchronization are needed in the protocol? (The more the likelier that one party is IDLE because it needs to wait for other party to finish some job e.g.)\n",
    "\n",
    "---"
   ]
  }
 ],
 "metadata": {
  "kernelspec": {
   "display_name": "Python [conda env:pp-ml] *",
   "language": "python",
   "name": "conda-env-pp-ml-py"
  },
  "language_info": {
   "codemirror_mode": {
    "name": "ipython",
    "version": 3
   },
   "file_extension": ".py",
   "mimetype": "text/x-python",
   "name": "python",
   "nbconvert_exporter": "python",
   "pygments_lexer": "ipython3",
   "version": "3.7.9"
  }
 },
 "nbformat": 4,
 "nbformat_minor": 4
}
